{
 "cells": [
  {
   "attachments": {},
   "cell_type": "markdown",
   "metadata": {},
   "source": [
    "<div style=\"font-family: monospace; white-space: pre; font-size: 10px;\">\n",
    "DDDDDDDD               DDDDDDDDAAAAAAAAAAAAAAAAAAAAAATTTTTTTTTTTTT      UUUUUUUUUUUUUUUUU   MMMMMMMMMM\n",
    "D:::::::D             D:::::::DA::::::::::::::::::::AT::::::::::::TTT   U::::::::::::::::U  M::::::::M\n",
    "D::::::::D           D::::::::DA::::::::::::::::::::AT:::::::::::::::TT U::::::UUUUUU:::::U M::::::::M\n",
    "D:::::::::D         D:::::::::DAA::::::AAAAAAAAA::::ATTT:::::TTTTT:::::TUU:::::U     U:::::UMM::::::MM\n",
    "D::::::::::D       D::::::::::D  A:::::A       AAAAAA  T:::::T    T:::::T U::::U     U:::::U  M::::M\n",
    "D:::::::::::D     D:::::::::::D  A:::::A               T:::::T     T:::::TU::::U     U:::::U  M::::M\n",
    "D:::::::D :::D   D:::::D::::::D  A::::::AAAAAAAAAA     T:::::T     T:::::TU::::UUUUUU:::::U   M::::M\n",
    "D::::::D D::::D D::::D D::::::D  A:::::::::::::::A     T:::::T     T:::::TU:::::::::::::UU    M::::M\n",
    "D::::::D  D::::D::::D  D::::::D  A:::::::::::::::A     T:::::T     T:::::TU::::UUUUUU:::::U   M::::M\n",
    "D::::::D   D:::::::D   D::::::D  A::::::AAAAAAAAAA     T:::::T     T:::::TU::::U     U:::::U  M::::M\n",
    "D::::::D    D:::::D    D::::::D  A:::::A               T:::::T     T:::::TU::::U     U:::::U  M::::M\n",
    "D::::::D     DD:DD     D::::::D  A:::::A       AAAAAA  T:::::T    T:::::T U::::U     U:::::U  M::::M\n",
    "D::::::D      DDD      D::::::DAA::::::AAAAAAAA:::::ATTT:::::TTTTT:::::TUU:::::U     U:::::UMM::::::MM\n",
    "D::::::D       D       D::::::DA::::::::::::::::::::AT:::::::::::::::TT U::::::U     U:::::UM::::::::M\n",
    "D::::::D               D::::::DA::::::::::::::::::::AT::::::::::::TTT   U::::::U     U:::::UM::::::::M\n",
    "DDDDDDDD               DDDDDDDDAAAAAAAAAAAAAAAAAAAAAATTTTTTTTTTTTT      UUUUUUUU     UUUUUUUMMMMMMMMMM\n",
    "                                                                                                      &copy;\n",
    "<!-- Thanks to https://patorjk.com/ for the ASCII artwork -->\n",
    "</div>"
   ]
  },
  {
   "attachments": {},
   "cell_type": "markdown",
   "metadata": {},
   "source": [
    "---\n",
    "# Sentiment Analysis with Support Vector Machines\n",
    "## <font color=\"red\">Multinomial Naive Bayes</font>\n",
    "Welcome to the Sentiment Analysis Course! In this exciting journey, we will explore the fascinating world of understanding emotions through text. Sentiment analysis, also known as opinion mining, empowers us to decipher the sentiments, attitudes, and opinions expressed in written communication. Whether you're interested in social media analysis, customer feedback evaluation, or gaining deeper insights into human behavior, this course will equip you with the essential tools and techniques to effectively analyze sentiment. Let's dive in and unlock the power of sentiment analysis together!\n",
    "\n",
    "---"
   ]
  },
  {
   "attachments": {},
   "cell_type": "markdown",
   "metadata": {},
   "source": [
    "## Importing Relevant Packages"
   ]
  },
  {
   "cell_type": "code",
   "execution_count": 1,
   "metadata": {},
   "outputs": [
    {
     "name": "stderr",
     "output_type": "stream",
     "text": [
      "c:\\Users\\kmedr\\anaconda3\\envs\\pypi_llm\\Lib\\site-packages\\numpy\\_distributor_init.py:30: UserWarning: loaded more than 1 DLL from .libs:\n",
      "c:\\Users\\kmedr\\anaconda3\\envs\\pypi_llm\\Lib\\site-packages\\numpy\\.libs\\libopenblas64__v0.3.21-gcc_10_3_0.dll\n",
      "c:\\Users\\kmedr\\anaconda3\\envs\\pypi_llm\\Lib\\site-packages\\numpy\\.libs\\libopenblas64__v0.3.23-gcc_10_3_0.dll\n",
      "  warnings.warn(\"loaded more than 1 DLL from .libs:\"\n"
     ]
    },
    {
     "name": "stderr",
     "output_type": "stream",
     "text": [
      "[nltk_data] Downloading package punkt to\n",
      "[nltk_data]     C:\\Users\\kmedr\\AppData\\Roaming\\nltk_data...\n",
      "[nltk_data]   Package punkt is already up-to-date!\n",
      "[nltk_data] Downloading package wordnet to\n",
      "[nltk_data]     C:\\Users\\kmedr\\AppData\\Roaming\\nltk_data...\n",
      "[nltk_data]   Package wordnet is already up-to-date!\n"
     ]
    }
   ],
   "source": [
    "# Import necessary libraries\n",
    "from sklearn import preprocessing\n",
    "from sklearn.feature_extraction.text import TfidfVectorizer, CountVectorizer\n",
    "from sklearn.model_selection import train_test_split\n",
    "from sklearn.naive_bayes import MultinomialNB\n",
    "from sklearn.metrics import accuracy_score, classification_report\n",
    "# from imblearn.over_sampling import SMOTE\n",
    "from gensim.parsing.preprocessing import remove_stopwords\n",
    "import nltk  # Import NLTK (Natural Language Toolkit) for natural language processing tasks\n",
    "from nltk import word_tokenize\n",
    "from nltk.stem import WordNetLemmatizer, LancasterStemmer\n",
    "from nltk.stem.snowball import EnglishStemmer\n",
    "from nltk.stem import PorterStemmer\n",
    "import matplotlib.pyplot as plt  # Import Matplotlib for data visualization\n",
    "import pandas  as pd # Import Pandas for data manipulation and analysis\n",
    "import numpy as np # Import Numpy for math\n",
    "import re\n",
    "import os\n",
    "nltk.download('punkt')\n",
    "nltk.download('wordnet')\n",
    "\n",
    "# Options for pandas\n",
    "pd.options.display.max_columns = None"
   ]
  },
  {
   "attachments": {},
   "cell_type": "markdown",
   "metadata": {},
   "source": [
    "## Data Loading and Preprocessing"
   ]
  },
  {
   "attachments": {},
   "cell_type": "markdown",
   "metadata": {},
   "source": [
    "### Data Loading"
   ]
  },
  {
   "attachments": {},
   "cell_type": "markdown",
   "metadata": {},
   "source": [
    "If using Google Drive, mount the drive and copy the path to the data file."
   ]
  },
  {
   "cell_type": "code",
   "execution_count": 2,
   "metadata": {},
   "outputs": [],
   "source": [
    "# Mount Google Drive\n",
    "# drive.mount('/content/drive')"
   ]
  },
  {
   "cell_type": "code",
   "execution_count": 3,
   "metadata": {},
   "outputs": [
    {
     "data": {
      "text/plain": [
       "'c:\\\\Users\\\\kmedr\\\\My Drive\\\\Projects\\\\sentiment_analyser'"
      ]
     },
     "execution_count": 3,
     "metadata": {},
     "output_type": "execute_result"
    }
   ],
   "source": [
    "# Checking the current working directory\n",
    "os.getcwd()"
   ]
  },
  {
   "cell_type": "code",
   "execution_count": 4,
   "metadata": {},
   "outputs": [],
   "source": [
    "# Load the preprocessed tweet dataset into a DataFrame\n",
    "df = pd.read_csv('Tweets.csv')"
   ]
  },
  {
   "cell_type": "code",
   "execution_count": 5,
   "metadata": {},
   "outputs": [
    {
     "data": {
      "text/html": [
       "<div>\n",
       "<style scoped>\n",
       "    .dataframe tbody tr th:only-of-type {\n",
       "        vertical-align: middle;\n",
       "    }\n",
       "\n",
       "    .dataframe tbody tr th {\n",
       "        vertical-align: top;\n",
       "    }\n",
       "\n",
       "    .dataframe thead th {\n",
       "        text-align: right;\n",
       "    }\n",
       "</style>\n",
       "<table border=\"1\" class=\"dataframe\">\n",
       "  <thead>\n",
       "    <tr style=\"text-align: right;\">\n",
       "      <th></th>\n",
       "      <th>textID</th>\n",
       "      <th>text</th>\n",
       "      <th>selected_text</th>\n",
       "      <th>sentiment</th>\n",
       "    </tr>\n",
       "  </thead>\n",
       "  <tbody>\n",
       "    <tr>\n",
       "      <th>0</th>\n",
       "      <td>cb774db0d1</td>\n",
       "      <td>I`d have responded, if I were going</td>\n",
       "      <td>I`d have responded, if I were going</td>\n",
       "      <td>neutral</td>\n",
       "    </tr>\n",
       "    <tr>\n",
       "      <th>1</th>\n",
       "      <td>549e992a42</td>\n",
       "      <td>Sooo SAD I will miss you here in San Diego!!!</td>\n",
       "      <td>Sooo SAD</td>\n",
       "      <td>negative</td>\n",
       "    </tr>\n",
       "    <tr>\n",
       "      <th>2</th>\n",
       "      <td>088c60f138</td>\n",
       "      <td>my boss is bullying me...</td>\n",
       "      <td>bullying me</td>\n",
       "      <td>negative</td>\n",
       "    </tr>\n",
       "    <tr>\n",
       "      <th>3</th>\n",
       "      <td>9642c003ef</td>\n",
       "      <td>what interview! leave me alone</td>\n",
       "      <td>leave me alone</td>\n",
       "      <td>negative</td>\n",
       "    </tr>\n",
       "    <tr>\n",
       "      <th>4</th>\n",
       "      <td>358bd9e861</td>\n",
       "      <td>Sons of ****, why couldn`t they put them on t...</td>\n",
       "      <td>Sons of ****,</td>\n",
       "      <td>negative</td>\n",
       "    </tr>\n",
       "  </tbody>\n",
       "</table>\n",
       "</div>"
      ],
      "text/plain": [
       "       textID                                               text   \n",
       "0  cb774db0d1                I`d have responded, if I were going  \\\n",
       "1  549e992a42      Sooo SAD I will miss you here in San Diego!!!   \n",
       "2  088c60f138                          my boss is bullying me...   \n",
       "3  9642c003ef                     what interview! leave me alone   \n",
       "4  358bd9e861   Sons of ****, why couldn`t they put them on t...   \n",
       "\n",
       "                         selected_text sentiment  \n",
       "0  I`d have responded, if I were going   neutral  \n",
       "1                             Sooo SAD  negative  \n",
       "2                          bullying me  negative  \n",
       "3                       leave me alone  negative  \n",
       "4                        Sons of ****,  negative  "
      ]
     },
     "execution_count": 5,
     "metadata": {},
     "output_type": "execute_result"
    }
   ],
   "source": [
    "df.head()"
   ]
  },
  {
   "cell_type": "code",
   "execution_count": 6,
   "metadata": {},
   "outputs": [
    {
     "data": {
      "text/plain": [
       "(27481, 4)"
      ]
     },
     "execution_count": 6,
     "metadata": {},
     "output_type": "execute_result"
    }
   ],
   "source": [
    "df.shape"
   ]
  },
  {
   "attachments": {},
   "cell_type": "markdown",
   "metadata": {},
   "source": [
    "### Data Preprocessing"
   ]
  },
  {
   "attachments": {},
   "cell_type": "markdown",
   "metadata": {},
   "source": [
    "#### Check for Missing Values"
   ]
  },
  {
   "cell_type": "code",
   "execution_count": 7,
   "metadata": {},
   "outputs": [
    {
     "name": "stdout",
     "output_type": "stream",
     "text": [
      "textID           0\n",
      "text             1\n",
      "selected_text    1\n",
      "sentiment        0\n",
      "dtype: int64\n"
     ]
    }
   ],
   "source": [
    "null_counts = df.isnull().sum()\n",
    "print(null_counts)"
   ]
  },
  {
   "attachments": {},
   "cell_type": "markdown",
   "metadata": {},
   "source": [
    "#### Remove Missing Values"
   ]
  },
  {
   "cell_type": "code",
   "execution_count": 8,
   "metadata": {},
   "outputs": [],
   "source": [
    "df = df.dropna()"
   ]
  },
  {
   "cell_type": "code",
   "execution_count": 9,
   "metadata": {},
   "outputs": [
    {
     "name": "stdout",
     "output_type": "stream",
     "text": [
      "<class 'pandas.core.frame.DataFrame'>\n",
      "Index: 27480 entries, 0 to 27480\n",
      "Data columns (total 4 columns):\n",
      " #   Column         Non-Null Count  Dtype \n",
      "---  ------         --------------  ----- \n",
      " 0   textID         27480 non-null  object\n",
      " 1   text           27480 non-null  object\n",
      " 2   selected_text  27480 non-null  object\n",
      " 3   sentiment      27480 non-null  object\n",
      "dtypes: object(4)\n",
      "memory usage: 1.0+ MB\n"
     ]
    }
   ],
   "source": [
    "# Check data types\n",
    "df.info()"
   ]
  },
  {
   "attachments": {},
   "cell_type": "markdown",
   "metadata": {},
   "source": [
    "#### Remove Unwanted Columns"
   ]
  },
  {
   "cell_type": "code",
   "execution_count": 10,
   "metadata": {},
   "outputs": [],
   "source": [
    "# Drop unnecessary columns\n",
    "df.drop(['textID', 'selected_text'], axis=1, inplace=True)"
   ]
  },
  {
   "cell_type": "code",
   "execution_count": 11,
   "metadata": {},
   "outputs": [
    {
     "data": {
      "text/html": [
       "<div>\n",
       "<style scoped>\n",
       "    .dataframe tbody tr th:only-of-type {\n",
       "        vertical-align: middle;\n",
       "    }\n",
       "\n",
       "    .dataframe tbody tr th {\n",
       "        vertical-align: top;\n",
       "    }\n",
       "\n",
       "    .dataframe thead th {\n",
       "        text-align: right;\n",
       "    }\n",
       "</style>\n",
       "<table border=\"1\" class=\"dataframe\">\n",
       "  <thead>\n",
       "    <tr style=\"text-align: right;\">\n",
       "      <th></th>\n",
       "      <th>text</th>\n",
       "      <th>sentiment</th>\n",
       "    </tr>\n",
       "  </thead>\n",
       "  <tbody>\n",
       "    <tr>\n",
       "      <th>0</th>\n",
       "      <td>I`d have responded, if I were going</td>\n",
       "      <td>neutral</td>\n",
       "    </tr>\n",
       "    <tr>\n",
       "      <th>1</th>\n",
       "      <td>Sooo SAD I will miss you here in San Diego!!!</td>\n",
       "      <td>negative</td>\n",
       "    </tr>\n",
       "    <tr>\n",
       "      <th>2</th>\n",
       "      <td>my boss is bullying me...</td>\n",
       "      <td>negative</td>\n",
       "    </tr>\n",
       "    <tr>\n",
       "      <th>3</th>\n",
       "      <td>what interview! leave me alone</td>\n",
       "      <td>negative</td>\n",
       "    </tr>\n",
       "    <tr>\n",
       "      <th>4</th>\n",
       "      <td>Sons of ****, why couldn`t they put them on t...</td>\n",
       "      <td>negative</td>\n",
       "    </tr>\n",
       "    <tr>\n",
       "      <th>5</th>\n",
       "      <td>http://www.dothebouncy.com/smf - some shameles...</td>\n",
       "      <td>neutral</td>\n",
       "    </tr>\n",
       "    <tr>\n",
       "      <th>6</th>\n",
       "      <td>2am feedings for the baby are fun when he is a...</td>\n",
       "      <td>positive</td>\n",
       "    </tr>\n",
       "    <tr>\n",
       "      <th>7</th>\n",
       "      <td>Soooo high</td>\n",
       "      <td>neutral</td>\n",
       "    </tr>\n",
       "    <tr>\n",
       "      <th>8</th>\n",
       "      <td>Both of you</td>\n",
       "      <td>neutral</td>\n",
       "    </tr>\n",
       "    <tr>\n",
       "      <th>9</th>\n",
       "      <td>Journey!? Wow... u just became cooler.  hehe....</td>\n",
       "      <td>positive</td>\n",
       "    </tr>\n",
       "  </tbody>\n",
       "</table>\n",
       "</div>"
      ],
      "text/plain": [
       "                                                text sentiment\n",
       "0                I`d have responded, if I were going   neutral\n",
       "1      Sooo SAD I will miss you here in San Diego!!!  negative\n",
       "2                          my boss is bullying me...  negative\n",
       "3                     what interview! leave me alone  negative\n",
       "4   Sons of ****, why couldn`t they put them on t...  negative\n",
       "5  http://www.dothebouncy.com/smf - some shameles...   neutral\n",
       "6  2am feedings for the baby are fun when he is a...  positive\n",
       "7                                         Soooo high   neutral\n",
       "8                                        Both of you   neutral\n",
       "9   Journey!? Wow... u just became cooler.  hehe....  positive"
      ]
     },
     "execution_count": 11,
     "metadata": {},
     "output_type": "execute_result"
    }
   ],
   "source": [
    "df.head(10)"
   ]
  },
  {
   "attachments": {},
   "cell_type": "markdown",
   "metadata": {},
   "source": [
    "### Create Labels"
   ]
  },
  {
   "attachments": {},
   "cell_type": "markdown",
   "metadata": {},
   "source": [
    "Create labels using `.map`."
   ]
  },
  {
   "cell_type": "code",
   "execution_count": 12,
   "metadata": {},
   "outputs": [],
   "source": [
    "# Creating the maps of the labes\n",
    "df['sentiment'] = df['sentiment'].map(\n",
    "    {\n",
    "        'positive': 1,\n",
    "        'negative': 0,\n",
    "        'neutral': 2\n",
    "    }\n",
    ")"
   ]
  },
  {
   "attachments": {},
   "cell_type": "markdown",
   "metadata": {},
   "source": [
    "Remove the **neutral** class from the dataset."
   ]
  },
  {
   "cell_type": "code",
   "execution_count": 13,
   "metadata": {},
   "outputs": [],
   "source": [
    "df = df[df['sentiment'] != 2]"
   ]
  },
  {
   "cell_type": "code",
   "execution_count": 14,
   "metadata": {},
   "outputs": [
    {
     "data": {
      "text/plain": [
       "array([0, 1], dtype=int64)"
      ]
     },
     "execution_count": 14,
     "metadata": {},
     "output_type": "execute_result"
    }
   ],
   "source": [
    "df['sentiment'].unique()"
   ]
  },
  {
   "cell_type": "code",
   "execution_count": 15,
   "metadata": {},
   "outputs": [
    {
     "data": {
      "text/html": [
       "<div>\n",
       "<style scoped>\n",
       "    .dataframe tbody tr th:only-of-type {\n",
       "        vertical-align: middle;\n",
       "    }\n",
       "\n",
       "    .dataframe tbody tr th {\n",
       "        vertical-align: top;\n",
       "    }\n",
       "\n",
       "    .dataframe thead th {\n",
       "        text-align: right;\n",
       "    }\n",
       "</style>\n",
       "<table border=\"1\" class=\"dataframe\">\n",
       "  <thead>\n",
       "    <tr style=\"text-align: right;\">\n",
       "      <th></th>\n",
       "      <th>text</th>\n",
       "      <th>sentiment</th>\n",
       "    </tr>\n",
       "  </thead>\n",
       "  <tbody>\n",
       "    <tr>\n",
       "      <th>1</th>\n",
       "      <td>Sooo SAD I will miss you here in San Diego!!!</td>\n",
       "      <td>0</td>\n",
       "    </tr>\n",
       "    <tr>\n",
       "      <th>2</th>\n",
       "      <td>my boss is bullying me...</td>\n",
       "      <td>0</td>\n",
       "    </tr>\n",
       "    <tr>\n",
       "      <th>3</th>\n",
       "      <td>what interview! leave me alone</td>\n",
       "      <td>0</td>\n",
       "    </tr>\n",
       "    <tr>\n",
       "      <th>4</th>\n",
       "      <td>Sons of ****, why couldn`t they put them on t...</td>\n",
       "      <td>0</td>\n",
       "    </tr>\n",
       "    <tr>\n",
       "      <th>6</th>\n",
       "      <td>2am feedings for the baby are fun when he is a...</td>\n",
       "      <td>1</td>\n",
       "    </tr>\n",
       "    <tr>\n",
       "      <th>9</th>\n",
       "      <td>Journey!? Wow... u just became cooler.  hehe....</td>\n",
       "      <td>1</td>\n",
       "    </tr>\n",
       "    <tr>\n",
       "      <th>11</th>\n",
       "      <td>I really really like the song Love Story by Ta...</td>\n",
       "      <td>1</td>\n",
       "    </tr>\n",
       "    <tr>\n",
       "      <th>12</th>\n",
       "      <td>My Sharpie is running DANGERously low on ink</td>\n",
       "      <td>0</td>\n",
       "    </tr>\n",
       "    <tr>\n",
       "      <th>13</th>\n",
       "      <td>i want to go to music tonight but i lost my vo...</td>\n",
       "      <td>0</td>\n",
       "    </tr>\n",
       "    <tr>\n",
       "      <th>15</th>\n",
       "      <td>Uh oh, I am sunburned</td>\n",
       "      <td>0</td>\n",
       "    </tr>\n",
       "  </tbody>\n",
       "</table>\n",
       "</div>"
      ],
      "text/plain": [
       "                                                 text  sentiment\n",
       "1       Sooo SAD I will miss you here in San Diego!!!          0\n",
       "2                           my boss is bullying me...          0\n",
       "3                      what interview! leave me alone          0\n",
       "4    Sons of ****, why couldn`t they put them on t...          0\n",
       "6   2am feedings for the baby are fun when he is a...          1\n",
       "9    Journey!? Wow... u just became cooler.  hehe....          1\n",
       "11  I really really like the song Love Story by Ta...          1\n",
       "12       My Sharpie is running DANGERously low on ink          0\n",
       "13  i want to go to music tonight but i lost my vo...          0\n",
       "15                              Uh oh, I am sunburned          0"
      ]
     },
     "execution_count": 15,
     "metadata": {},
     "output_type": "execute_result"
    }
   ],
   "source": [
    "df.head(10)"
   ]
  },
  {
   "attachments": {},
   "cell_type": "markdown",
   "metadata": {},
   "source": [
    "#### Labels\n",
    "- 0 = Negative\n",
    "- 1 = Positive"
   ]
  },
  {
   "attachments": {},
   "cell_type": "markdown",
   "metadata": {},
   "source": [
    "### StopWord Removal\n",
    "Stopwords are commonly used words in a language that are often considered insignificant or lack meaningful contribution to the overall semantics of a text. These words are typically filtered out or removed during text analysis tasks, such as sentiment analysis, to focus on more important and meaningful words. Examples of stopwords in English include articles (e.g., \"a\", \"an\", \"the\"), pronouns (e.g., \"I\", \"you\", \"he\", \"she\"), prepositions (e.g., \"in\", \"on\", \"at\"), and conjunctions (e.g., \"and\", \"but\", \"or\"). By removing stopwords, text analysis algorithms can often improve efficiency and accuracy by eliminating noise and reducing the dimensionality of the data.\n",
    "### Lowercasing\n",
    "### Removing Special Characters, Mentions, Hashtags\n",
    "### Tokenization(Tweets)\n",
    "Tokenization is the process of breaking down a text or sentence into smaller units called tokens. These tokens can be individual words, phrases, or even characters, depending on the granularity of the tokenization technique used. Tokenization helps in preparing text data for analysis or processing by splitting it into meaningful and manageable components. It serves as a foundational step in various natural language processing (NLP) tasks, such as text classification, language modeling, and information retrieval.\n",
    "### Lemmatization / Stemming (Tweets)\n",
    "Lemmatization and stemming are techniques used in natural language processing to reduce words to their base or canonical forms, but they have different approaches and outcomes.\n",
    "Lemmatization:\n",
    "- Lemmatization aims to obtain the lemma or base form of a word.\n",
    "- It considers the word's morphological analysis and applies language rules to determine the base form.\n",
    "- Lemmatization typically produces valid words that are present in the language's dictionary.\n",
    "- For example, the lemmatization of \"running\" would be \"run\", and the lemmatization of \"better\" would be \"good\".\n",
    "Stemming:\n",
    "- Stemming is a simpler and more heuristic-based approach.\n",
    "- It reduces words to their stem or root form by removing suffixes or prefixes.\n",
    "- Stemming does not guarantee that the resulting stem is a valid word.\n",
    "- For example, the stemming of \"running\" would be \"run\", but the stemming of \"better\" would be \"bet\".\n",
    "In summary, lemmatization provides linguistically accurate base forms, while stemming focuses on heuristics to derive word stems. Lemmatization tends to yield better results in terms of semantic accuracy, but it can be computationally more expensive than stemming. The choice between lemmatization and stemming depends on the specific requirements and objectives of your application or analysis.\n",
    "\n",
    "\n"
   ]
  },
  {
   "attachments": {},
   "cell_type": "markdown",
   "metadata": {},
   "source": [
    "#### Creating a single preprocessing function and applying it to the dataset\n",
    "We will create a single function that will perform all the preprocessing steps we have mentioned above and apply it to the dataset.  \n",
    "This will make our preprocessing pipeline more efficient and easier to replicate on other datasets.  \n",
    "We will use the `re` library to perform regular expression operations.  \n",
    "  \n",
    "<font color=\"red\">**The main change here was to completely remove the @ and # symbols and text associated with them, and to use a slightly different set of code.**</font>"
   ]
  },
  {
   "cell_type": "code",
   "execution_count": 16,
   "metadata": {},
   "outputs": [],
   "source": [
    "def preprocess_text(text):\n",
    "    # Remove mentions (@username) and hashtags (#tech)\n",
    "    text = re.sub(r'@\\w+|#', '', text)\n",
    "    \n",
    "    # Remove special characters and punctuation\n",
    "    text = re.sub(r'[^\\w\\s]', '', text)\n",
    "\n",
    "    # Remove URLs\n",
    "    text = re.sub(r'http\\S+|www\\S+|https\\S+', '', text)\n",
    "\n",
    "    # remove extra whitespace\n",
    "    text = ' '.join(text.split())\n",
    "\n",
    "    # Removing stopwords and convert the text to lowercase\n",
    "    text = remove_stopwords(text.lower())\n",
    "\n",
    "    # Tokenization\n",
    "    text = word_tokenize(text)\n",
    "\n",
    "    #lemmatization\n",
    "    # lemma = EnglishStemmer()\n",
    "    lemma = WordNetLemmatizer()\n",
    "    # text = ' '.join([lemma.stem(word) for word in text])\n",
    "    text = ' '.join([lemma.lemmatize(word) for word in text])\n",
    "    return text"
   ]
  },
  {
   "attachments": {},
   "cell_type": "markdown",
   "metadata": {},
   "source": [
    "Apply the `preprocess_text` function to create a new column 'preprocessed_text'  \n",
    "  \n",
    "We will also take the opportunity to create a **shallow copy** of the dataframe and save it as **'df_cleaned'** for future use. "
   ]
  },
  {
   "cell_type": "code",
   "execution_count": 17,
   "metadata": {},
   "outputs": [
    {
     "data": {
      "text/html": [
       "<div>\n",
       "<style scoped>\n",
       "    .dataframe tbody tr th:only-of-type {\n",
       "        vertical-align: middle;\n",
       "    }\n",
       "\n",
       "    .dataframe tbody tr th {\n",
       "        vertical-align: top;\n",
       "    }\n",
       "\n",
       "    .dataframe thead th {\n",
       "        text-align: right;\n",
       "    }\n",
       "</style>\n",
       "<table border=\"1\" class=\"dataframe\">\n",
       "  <thead>\n",
       "    <tr style=\"text-align: right;\">\n",
       "      <th></th>\n",
       "      <th>text</th>\n",
       "      <th>sentiment</th>\n",
       "      <th>preprocessed_text</th>\n",
       "    </tr>\n",
       "  </thead>\n",
       "  <tbody>\n",
       "    <tr>\n",
       "      <th>1</th>\n",
       "      <td>Sooo SAD I will miss you here in San Diego!!!</td>\n",
       "      <td>0</td>\n",
       "      <td>sooo sad miss san diego</td>\n",
       "    </tr>\n",
       "    <tr>\n",
       "      <th>2</th>\n",
       "      <td>my boss is bullying me...</td>\n",
       "      <td>0</td>\n",
       "      <td>bos bullying</td>\n",
       "    </tr>\n",
       "    <tr>\n",
       "      <th>3</th>\n",
       "      <td>what interview! leave me alone</td>\n",
       "      <td>0</td>\n",
       "      <td>interview leave</td>\n",
       "    </tr>\n",
       "    <tr>\n",
       "      <th>4</th>\n",
       "      <td>Sons of ****, why couldn`t they put them on t...</td>\n",
       "      <td>0</td>\n",
       "      <td>son release bought</td>\n",
       "    </tr>\n",
       "    <tr>\n",
       "      <th>6</th>\n",
       "      <td>2am feedings for the baby are fun when he is a...</td>\n",
       "      <td>1</td>\n",
       "      <td>2am feeding baby fun smile coo</td>\n",
       "    </tr>\n",
       "  </tbody>\n",
       "</table>\n",
       "</div>"
      ],
      "text/plain": [
       "                                                text  sentiment   \n",
       "1      Sooo SAD I will miss you here in San Diego!!!          0  \\\n",
       "2                          my boss is bullying me...          0   \n",
       "3                     what interview! leave me alone          0   \n",
       "4   Sons of ****, why couldn`t they put them on t...          0   \n",
       "6  2am feedings for the baby are fun when he is a...          1   \n",
       "\n",
       "                preprocessed_text  \n",
       "1         sooo sad miss san diego  \n",
       "2                    bos bullying  \n",
       "3                 interview leave  \n",
       "4              son release bought  \n",
       "6  2am feeding baby fun smile coo  "
      ]
     },
     "execution_count": 17,
     "metadata": {},
     "output_type": "execute_result"
    }
   ],
   "source": [
    "df_cleaned = df.copy()\n",
    "df_cleaned['preprocessed_text'] = df_cleaned['text'].apply(preprocess_text)\n",
    "df_cleaned.head()"
   ]
  },
  {
   "cell_type": "code",
   "execution_count": 18,
   "metadata": {},
   "outputs": [
    {
     "data": {
      "text/html": [
       "<div>\n",
       "<style scoped>\n",
       "    .dataframe tbody tr th:only-of-type {\n",
       "        vertical-align: middle;\n",
       "    }\n",
       "\n",
       "    .dataframe tbody tr th {\n",
       "        vertical-align: top;\n",
       "    }\n",
       "\n",
       "    .dataframe thead th {\n",
       "        text-align: right;\n",
       "    }\n",
       "</style>\n",
       "<table border=\"1\" class=\"dataframe\">\n",
       "  <thead>\n",
       "    <tr style=\"text-align: right;\">\n",
       "      <th></th>\n",
       "      <th>sentiment</th>\n",
       "      <th>preprocessed_text</th>\n",
       "    </tr>\n",
       "  </thead>\n",
       "  <tbody>\n",
       "    <tr>\n",
       "      <th>1</th>\n",
       "      <td>0</td>\n",
       "      <td>sooo sad miss san diego</td>\n",
       "    </tr>\n",
       "    <tr>\n",
       "      <th>2</th>\n",
       "      <td>0</td>\n",
       "      <td>bos bullying</td>\n",
       "    </tr>\n",
       "    <tr>\n",
       "      <th>3</th>\n",
       "      <td>0</td>\n",
       "      <td>interview leave</td>\n",
       "    </tr>\n",
       "    <tr>\n",
       "      <th>4</th>\n",
       "      <td>0</td>\n",
       "      <td>son release bought</td>\n",
       "    </tr>\n",
       "    <tr>\n",
       "      <th>6</th>\n",
       "      <td>1</td>\n",
       "      <td>2am feeding baby fun smile coo</td>\n",
       "    </tr>\n",
       "  </tbody>\n",
       "</table>\n",
       "</div>"
      ],
      "text/plain": [
       "   sentiment               preprocessed_text\n",
       "1          0         sooo sad miss san diego\n",
       "2          0                    bos bullying\n",
       "3          0                 interview leave\n",
       "4          0              son release bought\n",
       "6          1  2am feeding baby fun smile coo"
      ]
     },
     "execution_count": 18,
     "metadata": {},
     "output_type": "execute_result"
    }
   ],
   "source": [
    "## Dropping the previous text column because it has now become redundant.\n",
    "df_cleaned.drop('text', axis=1, inplace=True)\n",
    "df_cleaned.head()"
   ]
  },
  {
   "cell_type": "code",
   "execution_count": 19,
   "metadata": {},
   "outputs": [
    {
     "data": {
      "text/plain": [
       "sentiment\n",
       "1    8582\n",
       "0    7781\n",
       "Name: count, dtype: int64"
      ]
     },
     "execution_count": 19,
     "metadata": {},
     "output_type": "execute_result"
    }
   ],
   "source": [
    "df_cleaned['sentiment'].value_counts()"
   ]
  },
  {
   "attachments": {},
   "cell_type": "markdown",
   "metadata": {},
   "source": [
    "#### Check for Outliers"
   ]
  },
  {
   "attachments": {},
   "cell_type": "markdown",
   "metadata": {},
   "source": [
    "##### Tweet Length Boxplot"
   ]
  },
  {
   "cell_type": "code",
   "execution_count": 20,
   "metadata": {},
   "outputs": [
    {
     "data": {
      "image/png": "[encoded data removed]",
      "text/plain": [
       "<Figure size 1000x600 with 1 Axes>"
      ]
     },
     "metadata": {},
     "output_type": "display_data"
    }
   ],
   "source": [
    "# Assuming `df_cleaned_cleaned` is a DataFrame and 'tweet' is the column with the tweet text\n",
    "df_cleaned['tweet_length'] = df_cleaned['preprocessed_text'].apply(lambda x: len(x.split()))\n",
    "\n",
    "# Create boxplot\n",
    "plt.figure(figsize=(10,6))\n",
    "plt.boxplot(df_cleaned['tweet_length'], vert=False,\n",
    "            flierprops=dict(markerfacecolor='r', marker='D'), patch_artist=True)\n",
    "plt.title('Boxplot of Tweet Lengths')\n",
    "plt.show()"
   ]
  },
  {
   "attachments": {},
   "cell_type": "markdown",
   "metadata": {},
   "source": [
    "## Model Building"
   ]
  },
  {
   "attachments": {},
   "cell_type": "markdown",
   "metadata": {},
   "source": [
    "### Train Test Split\n",
    "Here we will create the train and test datasets."
   ]
  },
  {
   "cell_type": "code",
   "execution_count": 21,
   "metadata": {},
   "outputs": [],
   "source": [
    "# Split the dataset into training and test sets, as `X` and `y` for input features and target variable\n",
    "X = df_cleaned['preprocessed_text']  # Input features (preprocessed tweets)\n",
    "y = df_cleaned['sentiment']  # Target variable (sentiment labels)"
   ]
  },
  {
   "attachments": {},
   "cell_type": "markdown",
   "metadata": {},
   "source": [
    "<font color=\"red\">The only change here that made a difference to the test set was to reduce its size down to 20%.</font>"
   ]
  },
  {
   "cell_type": "code",
   "execution_count": 22,
   "metadata": {},
   "outputs": [],
   "source": [
    "\n",
    "# Train Test Split\n",
    "X_train, X_test, y_train, y_test = train_test_split(\n",
    "    X, y, test_size=0.2, random_state=20)"
   ]
  },
  {
   "cell_type": "code",
   "execution_count": 23,
   "metadata": {},
   "outputs": [
    {
     "data": {
      "text/plain": [
       "((13090,), (3273,), (13090,), (3273,))"
      ]
     },
     "execution_count": 23,
     "metadata": {},
     "output_type": "execute_result"
    }
   ],
   "source": [
    "X_train.shape, X_test.shape, y_train.shape, y_test.shape"
   ]
  },
  {
   "cell_type": "code",
   "execution_count": 24,
   "metadata": {},
   "outputs": [
    {
     "name": "stdout",
     "output_type": "stream",
     "text": [
      "sentiment\n",
      "1    6838\n",
      "0    6252\n",
      "Name: count, dtype: int64\n"
     ]
    }
   ],
   "source": [
    "print(y_train.value_counts())"
   ]
  },
  {
   "attachments": {},
   "cell_type": "markdown",
   "metadata": {},
   "source": [
    "### Feature Extraction"
   ]
  },
  {
   "attachments": {},
   "cell_type": "markdown",
   "metadata": {},
   "source": [
    "#### Vectorization\n",
    "<font color=\"red\">**Here we will use the TF-IDF vectorizer.**</font>"
   ]
  },
  {
   "cell_type": "code",
   "execution_count": 43,
   "metadata": {},
   "outputs": [],
   "source": [
    "# Feature Extraction: TF-IDF\n",
    "vectorizer = TfidfVectorizer()\n",
    "# vectorizer = CountVectorizer(max_features=3000, stop_words='english', lowercase=True)\n",
    "X_train_vectors = vectorizer.fit_transform(X_train)\n",
    "\n",
    "# Save the vectorizer to a pickle file\n",
    "with open('models/tfid_vectorizer.pkl', 'wb') as f:\n",
    "    pkl.dump(vectorizer, f)\n",
    "\n",
    "X_test_vectors = vectorizer.transform(X_test)"
   ]
  },
  {
   "cell_type": "code",
   "execution_count": 26,
   "metadata": {},
   "outputs": [],
   "source": [
    "X_train_vectors = X_train_vectors.toarray()"
   ]
  },
  {
   "cell_type": "code",
   "execution_count": 27,
   "metadata": {},
   "outputs": [],
   "source": [
    "X_test_vectors = X_test_vectors.toarray()"
   ]
  },
  {
   "attachments": {},
   "cell_type": "markdown",
   "metadata": {},
   "source": [
    "### Deep Learning - <font color=\"red\">Multilayer Perceptron - MLP (feed-forward neural network)</font>"
   ]
  },
  {
   "cell_type": "code",
   "execution_count": 28,
   "metadata": {},
   "outputs": [
    {
     "name": "stdout",
     "output_type": "stream",
     "text": [
      "Epoch 1/10\n",
      "410/410 [==============================] - 3s 6ms/step - loss: 0.6472 - accuracy: 0.6426 - val_loss: 0.5271 - val_accuracy: 0.8332\n",
      "Epoch 2/10\n",
      "410/410 [==============================] - 3s 6ms/step - loss: 0.4690 - accuracy: 0.8118 - val_loss: 0.3738 - val_accuracy: 0.8442\n",
      "Epoch 3/10\n",
      "410/410 [==============================] - 2s 6ms/step - loss: 0.3654 - accuracy: 0.8590 - val_loss: 0.3324 - val_accuracy: 0.8552\n",
      "Epoch 4/10\n",
      "410/410 [==============================] - 3s 6ms/step - loss: 0.3147 - accuracy: 0.8843 - val_loss: 0.3184 - val_accuracy: 0.8628\n",
      "Epoch 5/10\n",
      "410/410 [==============================] - 2s 6ms/step - loss: 0.2777 - accuracy: 0.9029 - val_loss: 0.3137 - val_accuracy: 0.8643\n",
      "Epoch 6/10\n",
      "410/410 [==============================] - 3s 6ms/step - loss: 0.2518 - accuracy: 0.9121 - val_loss: 0.3127 - val_accuracy: 0.8659\n",
      "Epoch 7/10\n",
      "410/410 [==============================] - 3s 6ms/step - loss: 0.2263 - accuracy: 0.9254 - val_loss: 0.3155 - val_accuracy: 0.8717\n",
      "Epoch 8/10\n",
      "410/410 [==============================] - 3s 6ms/step - loss: 0.2121 - accuracy: 0.9313 - val_loss: 0.3191 - val_accuracy: 0.8680\n",
      "Epoch 9/10\n",
      "410/410 [==============================] - 2s 6ms/step - loss: 0.1973 - accuracy: 0.9366 - val_loss: 0.3242 - val_accuracy: 0.8680\n",
      "Epoch 10/10\n",
      "410/410 [==============================] - 3s 7ms/step - loss: 0.1784 - accuracy: 0.9455 - val_loss: 0.3294 - val_accuracy: 0.8656\n",
      "103/103 [==============================] - 0s 1ms/step - loss: 0.3294 - accuracy: 0.8656\n",
      "Test loss: 0.3294050097465515\n",
      "Test accuracy: 0.8655667304992676\n"
     ]
    }
   ],
   "source": [
    "# Import the required libraries\n",
    "from tensorflow.keras.models import Sequential\n",
    "from tensorflow.keras.layers import Dense, Dropout\n",
    "from tensorflow.keras.optimizers import SGD, RMSprop, Adam, Adamax, Nadam\n",
    "\n",
    "# Choose an optimizer\n",
    "# opt = SGD(learning_rate=0.01, momentum=0.0, nesterov=False)\n",
    "# opt = RMSprop(learning_rate=0.001, rho=0.9)\n",
    "# opt = Adam(learning_rate=0.001, beta_1=0.9, beta_2=0.999, amsgrad=False)\n",
    "opt = Adamax(learning_rate=0.002, beta_1=0.9, beta_2=0.999)\n",
    "# opt = Nadam(learning_rate=0.002, beta_1=0.9, beta_2=0.999)\n",
    "\n",
    "# Create a sequential model\n",
    "model2 = Sequential()\n",
    "model2.add(Dense(32, activation='relu', input_dim=X_train_vectors.shape[1]))\n",
    "model2.add(Dropout(0.5))\n",
    "model2.add(Dense(16, activation='relu'))\n",
    "model2.add(Dropout(0.5))\n",
    "model2.add(Dense(1, activation='sigmoid'))\n",
    "\n",
    "# Compile the model - We use `binary_crossentropy` as the loss function because we have a two classifications\n",
    "model2.compile(loss='binary_crossentropy', optimizer=opt, metrics=['accuracy'])\n",
    "\n",
    "# Train the model\n",
    "history = model2.fit(X_train_vectors, y_train, epochs=10, batch_size=32, validation_data=(X_test_vectors, y_test))\n",
    "\n",
    "# Evaluate the model\n",
    "loss, accuracy = model2.evaluate(X_test_vectors, y_test)\n",
    "print('Test loss:', loss)\n",
    "print('Test accuracy:', accuracy)"
   ]
  },
  {
   "cell_type": "code",
   "execution_count": 29,
   "metadata": {},
   "outputs": [],
   "source": [
    "import pickle as pkl\n",
    "\n",
    "# Save the history object\n",
    "with open('history.pkl', 'wb') as f:\n",
    "    pkl.dump(history.history, f)"
   ]
  },
  {
   "cell_type": "code",
   "execution_count": 30,
   "metadata": {},
   "outputs": [],
   "source": [
    "# Save the model to disk\n",
    "model2.save('models/sentiment_CNN.h5')"
   ]
  },
  {
   "cell_type": "code",
   "execution_count": 41,
   "metadata": {},
   "outputs": [],
   "source": [
    "# Save the model to a file\n",
    "with open(\"models/count_vectorizer.pkl\", \"wb\") as f:\n",
    "    pkl.dump(vectorizer, f)"
   ]
  },
  {
   "attachments": {},
   "cell_type": "markdown",
   "metadata": {},
   "source": [
    "#### Metrics"
   ]
  },
  {
   "attachments": {},
   "cell_type": "markdown",
   "metadata": {},
   "source": [
    "`y_pred` is an array of probabilities outputted by your model, where each probability represents the model's confidence that the corresponding example belongs to the positive class.  \n",
    "  \n",
    "`np.where(y_pred > 0.5, 1, 0)` is using the `numpy.where()` function to create an array of class predictions. Here's how it works:  \n",
    "  \n",
    "- `y_pred > 0.5` creates a **Boolean** array where each element is **True** if the corresponding `y_pre`d value is greater than **0.5**, and **False** otherwise.  \n",
    "- For each element in the **Boolean** array, `numpy.where()` assigns a value of **1** if the element is **True**, and **0** if the element is **False**.  \n",
    "  \n",
    "The **0.5** is a threshold that you're using to convert probabilities into class predictions. Essentially, you're saying that if the model thinks there's more than a 50% chance that an example belongs to the positive class, you'll predict it as positive; otherwise, you'll predict it as negative.  \n",
    "  \n",
    "If you adjust this threshold, it will affect your model's **precision** and **recall**:  \n",
    "- If you **lower** the threshold, you'll predict more examples as **positive**, which may increase **recall** (since you're less likely to miss any positive examples) but **decrease** **precision** (since you're more likely to incorrectly predict negative examples as positive).\n",
    "- If you **raise** the threshold, you'll predict fewer examples as positive, which may increase **precision** (since you're less likely to incorrectly predict negative examples as positive) but decrease **recall** (since you're more likely to miss positive examples).  \n",
    "  \n",
    "Choosing the right threshold is a balance between **precision** and **recall**, and the best threshold often depends on the specific application."
   ]
  },
  {
   "cell_type": "code",
   "execution_count": 31,
   "metadata": {},
   "outputs": [
    {
     "name": "stdout",
     "output_type": "stream",
     "text": [
      "103/103 [==============================] - 0s 1ms/step\n",
      "              precision    recall  f1-score   support\n",
      "\n",
      "           0       0.85      0.86      0.86      1529\n",
      "           1       0.88      0.87      0.87      1744\n",
      "\n",
      "    accuracy                           0.87      3273\n",
      "   macro avg       0.86      0.87      0.87      3273\n",
      "weighted avg       0.87      0.87      0.87      3273\n",
      "\n",
      "AUC-ROC score: 0.941914275085353\n"
     ]
    }
   ],
   "source": [
    "from sklearn.metrics import roc_auc_score\n",
    "\n",
    "# Generate predictions\n",
    "y_pred = model2.predict(X_test_vectors)\n",
    "\n",
    "# The predictions are probabilities and need to be converted to binary classification\n",
    "y_pred_class = np.where(y_pred > 0.5, 1, 0)\n",
    "\n",
    "# Print the classification report\n",
    "print(classification_report(y_test, y_pred_class))\n",
    "\n",
    "# Print the AUC-ROC score\n",
    "print('AUC-ROC score:', roc_auc_score(y_test, y_pred))\n"
   ]
  },
  {
   "attachments": {},
   "cell_type": "markdown",
   "metadata": {},
   "source": [
    "#### AUC-ROC score"
   ]
  },
  {
   "attachments": {},
   "cell_type": "markdown",
   "metadata": {},
   "source": [
    "The **AUC-ROC** score stands for **\"Area Under the Receiver Operating Characteristics Curve\"**. This metric provides an aggregate measure of performance across all possible classification thresholds. It measures the entire two-dimensional area underneath the entire ROC curve (think integral calculus) from (0,0) to (1,1).\n",
    "\n",
    "A perfect classifier's **AUC-ROC** score would be **1.0**, meaning that it has a perfect trade-off between sensitivity (**true positive rate**) and specificity (1 - **false positive rate**). \n",
    "\n",
    "A model with an **AUC-ROC** score of **0.5** is no better than random guessing. In other words, it has a 50% chance of distinguishing between positive and negative classes.\n",
    "\n",
    "So, an **AUC-ROC** score of **0.9411** is very good! This score implies that there is 94.11% chance that the model will be able to distinguish between positive class and negative class. This suggests that your model has a very good measure of separability and is able to predict with high sensitivity and specificity."
   ]
  },
  {
   "cell_type": "code",
   "execution_count": 32,
   "metadata": {},
   "outputs": [
    {
     "name": "stdout",
     "output_type": "stream",
     "text": [
      "AUC-ROC score: 0.941914275085353\n"
     ]
    }
   ],
   "source": [
    "# Print the AUC-ROC score\n",
    "print('AUC-ROC score:', roc_auc_score(y_test, y_pred))"
   ]
  },
  {
   "attachments": {},
   "cell_type": "markdown",
   "metadata": {},
   "source": [
    "#### Loss and Accuracy Plots\n",
    "- ***Loss plot:*** This plot shows how the loss of your model changes during the training process. The 'Train' line represents the loss on the training data and the 'Test' line represents the loss on the test data. Ideally, both lines should decrease over time and eventually plateau. If the training loss continues to decrease while the test loss starts to increase, it's an indication of overfitting.\n",
    "- ***Accuracy plot:*** This plot shows how the accuracy of your model changes during the training process. The 'Train' line represents the accuracy on the training data and the 'Test' line represents the accuracy on the test data. Ideally, both lines should increase over time and eventually plateau. As with the loss plot, if the training accuracy continues to increase while the test accuracy starts to decrease or plateaus, it's an indication of overfitting."
   ]
  },
  {
   "cell_type": "code",
   "execution_count": 33,
   "metadata": {},
   "outputs": [
    {
     "data": {
      "image/png": "[encoded data removed]",
      "text/plain": [
       "<Figure size 1500x800 with 2 Axes>"
      ]
     },
     "metadata": {},
     "output_type": "display_data"
    }
   ],
   "source": [
    "with open('history.pkl', 'rb') as f:\n",
    "    loaded_hist_dict = pkl.load(f)\n",
    "\n",
    "# And use it to create the plots\n",
    "plt.figure(figsize=(15, 8))\n",
    "plt.suptitle('Training v Validation Progress')\n",
    "\n",
    "# Plot loss\n",
    "plt.subplot(1, 2, 1)\n",
    "plt.plot(loaded_hist_dict['loss'], label='Train Loss', color='blue', marker='o')\n",
    "plt.plot(loaded_hist_dict['val_loss'], label='Validation Loss', color='orange', marker='o')\n",
    "plt.title('Loss')\n",
    "plt.xlabel('Epochs') # Added label for x-axis\n",
    "plt.ylabel('Loss')   # Added label for y-axis\n",
    "plt.legend()\n",
    "\n",
    "# Plot accuracy\n",
    "plt.subplot(1, 2, 2)\n",
    "plt.plot(loaded_hist_dict['accuracy'], label='Train Accuracy', color='blue', marker='o')\n",
    "plt.plot(loaded_hist_dict['val_accuracy'], label='Validation Accuracy', color='orange', marker='o')\n",
    "plt.title('Accuracy')\n",
    "plt.xlabel('Epochs')  # Added label for x-axis\n",
    "plt.ylabel('Accuracy') # Added label for y-axis\n",
    "plt.legend()\n",
    "\n",
    "plt.show()"
   ]
  },
  {
   "cell_type": "code",
   "execution_count": 34,
   "metadata": {},
   "outputs": [
    {
     "data": {
      "application/vnd.plotly.v1+json": {
       "config": {
        "plotlyServerURL": "https://plotly.com"
       },
       "data": [
        {
         "line": {
          "color": "blue"
         },
         "mode": "lines",
         "name": "Train Loss",
         "type": "scatter",
         "x": [
          0,
          1,
          2,
          3,
          4,
          5,
          6,
          7,
          8,
          9
         ],
         "xaxis": "x",
         "y": [
          0.6471575498580933,
          0.46904706954956055,
          0.3654444217681885,
          0.31470954418182373,
          0.277682900428772,
          0.25177639722824097,
          0.2263319045305252,
          0.21213781833648682,
          0.19733791053295135,
          0.17838847637176514
         ],
         "yaxis": "y"
        },
        {
         "line": {
          "color": "orange"
         },
         "mode": "lines",
         "name": "Validation Loss",
         "type": "scatter",
         "x": [
          0,
          1,
          2,
          3,
          4,
          5,
          6,
          7,
          8,
          9
         ],
         "xaxis": "x",
         "y": [
          0.5270602107048035,
          0.37384888529777527,
          0.33237820863723755,
          0.3183939754962921,
          0.31373995542526245,
          0.3126782476902008,
          0.31547030806541443,
          0.319078654050827,
          0.3241816461086273,
          0.3294050097465515
         ],
         "yaxis": "y"
        },
        {
         "line": {
          "color": "blue"
         },
         "mode": "lines",
         "name": "Train Accuracy",
         "type": "scatter",
         "x": [
          0,
          1,
          2,
          3,
          4,
          5,
          6,
          7,
          8,
          9
         ],
         "xaxis": "x2",
         "y": [
          0.6426279544830322,
          0.8117647171020508,
          0.8589763045310974,
          0.8842628002166748,
          0.9029029607772827,
          0.9121466875076294,
          0.9254392385482788,
          0.9313216209411621,
          0.9365928173065186,
          0.9454545378684998
         ],
         "yaxis": "y2"
        },
        {
         "line": {
          "color": "orange"
         },
         "mode": "lines",
         "name": "Validation Accuracy",
         "type": "scatter",
         "x": [
          0,
          1,
          2,
          3,
          4,
          5,
          6,
          7,
          8,
          9
         ],
         "xaxis": "x2",
         "y": [
          0.8331805467605591,
          0.844179630279541,
          0.855178713798523,
          0.8628169894218445,
          0.8643446564674377,
          0.8658722639083862,
          0.8716773390769958,
          0.8680109977722168,
          0.8680109977722168,
          0.8655667304992676
         ],
         "yaxis": "y2"
        }
       ],
       "layout": {
        "annotations": [
         {
          "font": {
           "size": 16
          },
          "showarrow": false,
          "text": "Loss",
          "x": 0.225,
          "xanchor": "center",
          "xref": "paper",
          "y": 1,
          "yanchor": "bottom",
          "yref": "paper"
         },
         {
          "font": {
           "size": 16
          },
          "showarrow": false,
          "text": "Accuracy",
          "x": 0.775,
          "xanchor": "center",
          "xref": "paper",
          "y": 1,
          "yanchor": "bottom",
          "yref": "paper"
         }
        ],
        "height": 600,
        "template": {
         "data": {
          "bar": [
           {
            "error_x": {
             "color": "#2a3f5f"
            },
            "error_y": {
             "color": "#2a3f5f"
            },
            "marker": {
             "line": {
              "color": "#E5ECF6",
              "width": 0.5
             },
             "pattern": {
              "fillmode": "overlay",
              "size": 10,
              "solidity": 0.2
             }
            },
            "type": "bar"
           }
          ],
          "barpolar": [
           {
            "marker": {
             "line": {
              "color": "#E5ECF6",
              "width": 0.5
             },
             "pattern": {
              "fillmode": "overlay",
              "size": 10,
              "solidity": 0.2
             }
            },
            "type": "barpolar"
           }
          ],
          "carpet": [
           {
            "aaxis": {
             "endlinecolor": "#2a3f5f",
             "gridcolor": "white",
             "linecolor": "white",
             "minorgridcolor": "white",
             "startlinecolor": "#2a3f5f"
            },
            "baxis": {
             "endlinecolor": "#2a3f5f",
             "gridcolor": "white",
             "linecolor": "white",
             "minorgridcolor": "white",
             "startlinecolor": "#2a3f5f"
            },
            "type": "carpet"
           }
          ],
          "choropleth": [
           {
            "colorbar": {
             "outlinewidth": 0,
             "ticks": ""
            },
            "type": "choropleth"
           }
          ],
          "contour": [
           {
            "colorbar": {
             "outlinewidth": 0,
             "ticks": ""
            },
            "colorscale": [
             [
              0,
              "#0d0887"
             ],
             [
              0.1111111111111111,
              "#46039f"
             ],
             [
              0.2222222222222222,
              "#7201a8"
             ],
             [
              0.3333333333333333,
              "#9c179e"
             ],
             [
              0.4444444444444444,
              "#bd3786"
             ],
             [
              0.5555555555555556,
              "#d8576b"
             ],
             [
              0.6666666666666666,
              "#ed7953"
             ],
             [
              0.7777777777777778,
              "#fb9f3a"
             ],
             [
              0.8888888888888888,
              "#fdca26"
             ],
             [
              1,
              "#f0f921"
             ]
            ],
            "type": "contour"
           }
          ],
          "contourcarpet": [
           {
            "colorbar": {
             "outlinewidth": 0,
             "ticks": ""
            },
            "type": "contourcarpet"
           }
          ],
          "heatmap": [
           {
            "colorbar": {
             "outlinewidth": 0,
             "ticks": ""
            },
            "colorscale": [
             [
              0,
              "#0d0887"
             ],
             [
              0.1111111111111111,
              "#46039f"
             ],
             [
              0.2222222222222222,
              "#7201a8"
             ],
             [
              0.3333333333333333,
              "#9c179e"
             ],
             [
              0.4444444444444444,
              "#bd3786"
             ],
             [
              0.5555555555555556,
              "#d8576b"
             ],
             [
              0.6666666666666666,
              "#ed7953"
             ],
             [
              0.7777777777777778,
              "#fb9f3a"
             ],
             [
              0.8888888888888888,
              "#fdca26"
             ],
             [
              1,
              "#f0f921"
             ]
            ],
            "type": "heatmap"
           }
          ],
          "heatmapgl": [
           {
            "colorbar": {
             "outlinewidth": 0,
             "ticks": ""
            },
            "colorscale": [
             [
              0,
              "#0d0887"
             ],
             [
              0.1111111111111111,
              "#46039f"
             ],
             [
              0.2222222222222222,
              "#7201a8"
             ],
             [
              0.3333333333333333,
              "#9c179e"
             ],
             [
              0.4444444444444444,
              "#bd3786"
             ],
             [
              0.5555555555555556,
              "#d8576b"
             ],
             [
              0.6666666666666666,
              "#ed7953"
             ],
             [
              0.7777777777777778,
              "#fb9f3a"
             ],
             [
              0.8888888888888888,
              "#fdca26"
             ],
             [
              1,
              "#f0f921"
             ]
            ],
            "type": "heatmapgl"
           }
          ],
          "histogram": [
           {
            "marker": {
             "pattern": {
              "fillmode": "overlay",
              "size": 10,
              "solidity": 0.2
             }
            },
            "type": "histogram"
           }
          ],
          "histogram2d": [
           {
            "colorbar": {
             "outlinewidth": 0,
             "ticks": ""
            },
            "colorscale": [
             [
              0,
              "#0d0887"
             ],
             [
              0.1111111111111111,
              "#46039f"
             ],
             [
              0.2222222222222222,
              "#7201a8"
             ],
             [
              0.3333333333333333,
              "#9c179e"
             ],
             [
              0.4444444444444444,
              "#bd3786"
             ],
             [
              0.5555555555555556,
              "#d8576b"
             ],
             [
              0.6666666666666666,
              "#ed7953"
             ],
             [
              0.7777777777777778,
              "#fb9f3a"
             ],
             [
              0.8888888888888888,
              "#fdca26"
             ],
             [
              1,
              "#f0f921"
             ]
            ],
            "type": "histogram2d"
           }
          ],
          "histogram2dcontour": [
           {
            "colorbar": {
             "outlinewidth": 0,
             "ticks": ""
            },
            "colorscale": [
             [
              0,
              "#0d0887"
             ],
             [
              0.1111111111111111,
              "#46039f"
             ],
             [
              0.2222222222222222,
              "#7201a8"
             ],
             [
              0.3333333333333333,
              "#9c179e"
             ],
             [
              0.4444444444444444,
              "#bd3786"
             ],
             [
              0.5555555555555556,
              "#d8576b"
             ],
             [
              0.6666666666666666,
              "#ed7953"
             ],
             [
              0.7777777777777778,
              "#fb9f3a"
             ],
             [
              0.8888888888888888,
              "#fdca26"
             ],
             [
              1,
              "#f0f921"
             ]
            ],
            "type": "histogram2dcontour"
           }
          ],
          "mesh3d": [
           {
            "colorbar": {
             "outlinewidth": 0,
             "ticks": ""
            },
            "type": "mesh3d"
           }
          ],
          "parcoords": [
           {
            "line": {
             "colorbar": {
              "outlinewidth": 0,
              "ticks": ""
             }
            },
            "type": "parcoords"
           }
          ],
          "pie": [
           {
            "automargin": true,
            "type": "pie"
           }
          ],
          "scatter": [
           {
            "fillpattern": {
             "fillmode": "overlay",
             "size": 10,
             "solidity": 0.2
            },
            "type": "scatter"
           }
          ],
          "scatter3d": [
           {
            "line": {
             "colorbar": {
              "outlinewidth": 0,
              "ticks": ""
             }
            },
            "marker": {
             "colorbar": {
              "outlinewidth": 0,
              "ticks": ""
             }
            },
            "type": "scatter3d"
           }
          ],
          "scattercarpet": [
           {
            "marker": {
             "colorbar": {
              "outlinewidth": 0,
              "ticks": ""
             }
            },
            "type": "scattercarpet"
           }
          ],
          "scattergeo": [
           {
            "marker": {
             "colorbar": {
              "outlinewidth": 0,
              "ticks": ""
             }
            },
            "type": "scattergeo"
           }
          ],
          "scattergl": [
           {
            "marker": {
             "colorbar": {
              "outlinewidth": 0,
              "ticks": ""
             }
            },
            "type": "scattergl"
           }
          ],
          "scattermapbox": [
           {
            "marker": {
             "colorbar": {
              "outlinewidth": 0,
              "ticks": ""
             }
            },
            "type": "scattermapbox"
           }
          ],
          "scatterpolar": [
           {
            "marker": {
             "colorbar": {
              "outlinewidth": 0,
              "ticks": ""
             }
            },
            "type": "scatterpolar"
           }
          ],
          "scatterpolargl": [
           {
            "marker": {
             "colorbar": {
              "outlinewidth": 0,
              "ticks": ""
             }
            },
            "type": "scatterpolargl"
           }
          ],
          "scatterternary": [
           {
            "marker": {
             "colorbar": {
              "outlinewidth": 0,
              "ticks": ""
             }
            },
            "type": "scatterternary"
           }
          ],
          "surface": [
           {
            "colorbar": {
             "outlinewidth": 0,
             "ticks": ""
            },
            "colorscale": [
             [
              0,
              "#0d0887"
             ],
             [
              0.1111111111111111,
              "#46039f"
             ],
             [
              0.2222222222222222,
              "#7201a8"
             ],
             [
              0.3333333333333333,
              "#9c179e"
             ],
             [
              0.4444444444444444,
              "#bd3786"
             ],
             [
              0.5555555555555556,
              "#d8576b"
             ],
             [
              0.6666666666666666,
              "#ed7953"
             ],
             [
              0.7777777777777778,
              "#fb9f3a"
             ],
             [
              0.8888888888888888,
              "#fdca26"
             ],
             [
              1,
              "#f0f921"
             ]
            ],
            "type": "surface"
           }
          ],
          "table": [
           {
            "cells": {
             "fill": {
              "color": "#EBF0F8"
             },
             "line": {
              "color": "white"
             }
            },
            "header": {
             "fill": {
              "color": "#C8D4E3"
             },
             "line": {
              "color": "white"
             }
            },
            "type": "table"
           }
          ]
         },
         "layout": {
          "annotationdefaults": {
           "arrowcolor": "#2a3f5f",
           "arrowhead": 0,
           "arrowwidth": 1
          },
          "autotypenumbers": "strict",
          "coloraxis": {
           "colorbar": {
            "outlinewidth": 0,
            "ticks": ""
           }
          },
          "colorscale": {
           "diverging": [
            [
             0,
             "#8e0152"
            ],
            [
             0.1,
             "#c51b7d"
            ],
            [
             0.2,
             "#de77ae"
            ],
            [
             0.3,
             "#f1b6da"
            ],
            [
             0.4,
             "#fde0ef"
            ],
            [
             0.5,
             "#f7f7f7"
            ],
            [
             0.6,
             "#e6f5d0"
            ],
            [
             0.7,
             "#b8e186"
            ],
            [
             0.8,
             "#7fbc41"
            ],
            [
             0.9,
             "#4d9221"
            ],
            [
             1,
             "#276419"
            ]
           ],
           "sequential": [
            [
             0,
             "#0d0887"
            ],
            [
             0.1111111111111111,
             "#46039f"
            ],
            [
             0.2222222222222222,
             "#7201a8"
            ],
            [
             0.3333333333333333,
             "#9c179e"
            ],
            [
             0.4444444444444444,
             "#bd3786"
            ],
            [
             0.5555555555555556,
             "#d8576b"
            ],
            [
             0.6666666666666666,
             "#ed7953"
            ],
            [
             0.7777777777777778,
             "#fb9f3a"
            ],
            [
             0.8888888888888888,
             "#fdca26"
            ],
            [
             1,
             "#f0f921"
            ]
           ],
           "sequentialminus": [
            [
             0,
             "#0d0887"
            ],
            [
             0.1111111111111111,
             "#46039f"
            ],
            [
             0.2222222222222222,
             "#7201a8"
            ],
            [
             0.3333333333333333,
             "#9c179e"
            ],
            [
             0.4444444444444444,
             "#bd3786"
            ],
            [
             0.5555555555555556,
             "#d8576b"
            ],
            [
             0.6666666666666666,
             "#ed7953"
            ],
            [
             0.7777777777777778,
             "#fb9f3a"
            ],
            [
             0.8888888888888888,
             "#fdca26"
            ],
            [
             1,
             "#f0f921"
            ]
           ]
          },
          "colorway": [
           "#636efa",
           "#EF553B",
           "#00cc96",
           "#ab63fa",
           "#FFA15A",
           "#19d3f3",
           "#FF6692",
           "#B6E880",
           "#FF97FF",
           "#FECB52"
          ],
          "font": {
           "color": "#2a3f5f"
          },
          "geo": {
           "bgcolor": "white",
           "lakecolor": "white",
           "landcolor": "#E5ECF6",
           "showlakes": true,
           "showland": true,
           "subunitcolor": "white"
          },
          "hoverlabel": {
           "align": "left"
          },
          "hovermode": "closest",
          "mapbox": {
           "style": "light"
          },
          "paper_bgcolor": "white",
          "plot_bgcolor": "#E5ECF6",
          "polar": {
           "angularaxis": {
            "gridcolor": "white",
            "linecolor": "white",
            "ticks": ""
           },
           "bgcolor": "#E5ECF6",
           "radialaxis": {
            "gridcolor": "white",
            "linecolor": "white",
            "ticks": ""
           }
          },
          "scene": {
           "xaxis": {
            "backgroundcolor": "#E5ECF6",
            "gridcolor": "white",
            "gridwidth": 2,
            "linecolor": "white",
            "showbackground": true,
            "ticks": "",
            "zerolinecolor": "white"
           },
           "yaxis": {
            "backgroundcolor": "#E5ECF6",
            "gridcolor": "white",
            "gridwidth": 2,
            "linecolor": "white",
            "showbackground": true,
            "ticks": "",
            "zerolinecolor": "white"
           },
           "zaxis": {
            "backgroundcolor": "#E5ECF6",
            "gridcolor": "white",
            "gridwidth": 2,
            "linecolor": "white",
            "showbackground": true,
            "ticks": "",
            "zerolinecolor": "white"
           }
          },
          "shapedefaults": {
           "line": {
            "color": "#2a3f5f"
           }
          },
          "ternary": {
           "aaxis": {
            "gridcolor": "white",
            "linecolor": "white",
            "ticks": ""
           },
           "baxis": {
            "gridcolor": "white",
            "linecolor": "white",
            "ticks": ""
           },
           "bgcolor": "#E5ECF6",
           "caxis": {
            "gridcolor": "white",
            "linecolor": "white",
            "ticks": ""
           }
          },
          "title": {
           "x": 0.05
          },
          "xaxis": {
           "automargin": true,
           "gridcolor": "white",
           "linecolor": "white",
           "ticks": "",
           "title": {
            "standoff": 15
           },
           "zerolinecolor": "white",
           "zerolinewidth": 2
          },
          "yaxis": {
           "automargin": true,
           "gridcolor": "white",
           "linecolor": "white",
           "ticks": "",
           "title": {
            "standoff": 15
           },
           "zerolinecolor": "white",
           "zerolinewidth": 2
          }
         }
        },
        "title": {
         "text": "Training v Validation Progress"
        },
        "xaxis": {
         "anchor": "y",
         "domain": [
          0,
          0.45
         ],
         "title": {
          "text": "Epochs"
         }
        },
        "xaxis2": {
         "anchor": "y2",
         "domain": [
          0.55,
          1
         ],
         "title": {
          "text": "Epochs"
         }
        },
        "yaxis": {
         "anchor": "x",
         "domain": [
          0,
          1
         ],
         "title": {
          "text": "Loss"
         }
        },
        "yaxis2": {
         "anchor": "x2",
         "domain": [
          0,
          1
         ],
         "title": {
          "text": "Accuracy"
         }
        }
       }
      }
     },
     "metadata": {},
     "output_type": "display_data"
    }
   ],
   "source": [
    "import plotly.graph_objects as go\n",
    "from plotly.subplots import make_subplots\n",
    "\n",
    "# Create subplot figure\n",
    "fig = make_subplots(rows=1, cols=2, subplot_titles=(\"Loss\", \"Accuracy\"))\n",
    "\n",
    "# Add a main title and labels\n",
    "fig.update_layout(\n",
    "    title_text=\"Training v Validation Progress\",\n",
    "    xaxis_title=\"Epochs\",\n",
    "    yaxis_title=\"Loss\",\n",
    "    xaxis2_title=\"Epochs\",\n",
    "    yaxis2_title=\"Accuracy\",\n",
    "    height=600  # Adjusts the height of the plot\n",
    "    )\n",
    "\n",
    "# Create a line plot for training loss\n",
    "fig.add_trace(\n",
    "    go.Scatter(\n",
    "        x=list(\n",
    "            range(\n",
    "                len(loaded_hist_dict['loss']))),\n",
    "        y=loaded_hist_dict['loss'],\n",
    "        mode='lines', name='Train Loss',\n",
    "        line=dict(color='blue')),\n",
    "    row=1, col=1)\n",
    "\n",
    "# Create a line plot for validation loss\n",
    "fig.add_trace(\n",
    "    go.Scatter(\n",
    "        x=list(\n",
    "            range(\n",
    "                len(loaded_hist_dict['val_loss']))),\n",
    "        y=loaded_hist_dict['val_loss'], mode='lines',\n",
    "        name='Validation Loss', line=dict(color='orange')),\n",
    "    row=1, col=1)\n",
    "\n",
    "# Create a line plot for training accuracy\n",
    "fig.add_trace(\n",
    "    go.Scatter(\n",
    "        x=list(\n",
    "            range(\n",
    "                len(loaded_hist_dict['accuracy']))),\n",
    "        y=loaded_hist_dict['accuracy'], mode='lines',\n",
    "        name='Train Accuracy', line=dict(color='blue')),\n",
    "    row=1, col=2)\n",
    "\n",
    "# Create a line plot for validation accuracy\n",
    "fig.add_trace(\n",
    "    go.Scatter(\n",
    "        x=list(\n",
    "            range(\n",
    "                len(loaded_hist_dict['val_accuracy']))),\n",
    "        y=loaded_hist_dict['val_accuracy'], mode='lines',\n",
    "        name='Validation Accuracy', line=dict(color='orange')),\n",
    "    row=1, col=2)\n",
    "\n",
    "# Show the plot\n",
    "fig.show()"
   ]
  },
  {
   "attachments": {},
   "cell_type": "markdown",
   "metadata": {},
   "source": [
    "The **Validation Loss**, and **Validation Accuracy** curves indicates there may be overfitting.  \n",
    "  \n",
    "Here are a few strategies to mitigate overfitting:\n",
    "\n",
    "- **Add more data:** The best way to improve the performance of a model and prevent overfitting is to train it on more data. If it's possible to collect more data, that would be the first thing to try.\n",
    "\n",
    "- **Use data augmentation:** In some cases, you can generate new training samples by augmenting your existing data. In image processing tasks, for example, you can slightly rotate, zoom, or shift your images to create new training samples. For text data, there are techniques like back translation, synonym replacement, etc. However, these techniques depend on the nature of your data and the problem at hand.\n",
    "\n",
    "- **Add regularization:** Regularization methods like L1 and L2 can help prevent overfitting by adding a cost to the loss function for large weights. Dropout is another form of regularization where randomly selected neurons are ignored during training, which helps prevent the model from becoming too dependent on any single neuron.\n",
    "\n",
    "- **Reduce the complexity of the model:** If your model has too many parameters, it might be too complex and could overfit the training data. Reducing the number of parameters by using fewer layers or fewer units per layer can help prevent overfitting.\n",
    "\n",
    "- **Use early stopping:** Keras provides a way to stop the training process when the model's performance on the validation set starts to deteriorate. This is known as early stopping."
   ]
  },
  {
   "attachments": {},
   "cell_type": "markdown",
   "metadata": {},
   "source": [
    "##### Load Saved Model"
   ]
  },
  {
   "cell_type": "code",
   "execution_count": 35,
   "metadata": {},
   "outputs": [],
   "source": [
    "from tensorflow.keras.models import load_model\n",
    "# Load the saved model\n",
    "model = load_model('models/sentiment_CNN.h5')"
   ]
  },
  {
   "cell_type": "code",
   "execution_count": 36,
   "metadata": {},
   "outputs": [
    {
     "name": "stdout",
     "output_type": "stream",
     "text": [
      "103/103 [==============================] - 0s 1ms/step\n"
     ]
    }
   ],
   "source": [
    "# Make predictions on the test set\n",
    "y_pred = model.predict(X_test_vectors)"
   ]
  },
  {
   "cell_type": "code",
   "execution_count": 37,
   "metadata": {},
   "outputs": [],
   "source": [
    "# The predictions are probabilities and need to be converted to binary classification\n",
    "y_pred_class = np.where(y_pred > 0.7, 1, 0)"
   ]
  },
  {
   "attachments": {},
   "cell_type": "markdown",
   "metadata": {},
   "source": [
    "#### Confusion Matrix \n",
    "The **confusion matrix** provides a visual representation of the performance of a classification model.  \n",
    "The **x-axis** represents the **predicted** classes and the **y-axis** represents the **actual** classes.  \n",
    "Each cell in the **matrix** represents a combination of **actual** and **predicted** classifications.  \n",
    "The diagonal cells from **top-left** to **bottom-right** represent **correct classifications**, while the other cells represent **incorrect classifications**. "
   ]
  },
  {
   "cell_type": "code",
   "execution_count": 38,
   "metadata": {},
   "outputs": [
    {
     "data": {
      "image/png": "[encoded data removed]",
      "text/plain": [
       "<Figure size 500x500 with 2 Axes>"
      ]
     },
     "metadata": {},
     "output_type": "display_data"
    }
   ],
   "source": [
    "from sklearn.metrics import confusion_matrix\n",
    "import seaborn as sns\n",
    "\n",
    "# Calculate the confusion matrix\n",
    "cm = confusion_matrix(y_test, y_pred_class)\n",
    "\n",
    "# Plot the confusion matrix\n",
    "plt.figure(figsize=(5, 5))\n",
    "sns.heatmap(cm, annot=True, fmt='d', cmap='Greens')\n",
    "plt.xlabel('Predicted')\n",
    "plt.ylabel('Actual')\n",
    "plt.title('Confusion matrix')\n",
    "plt.show()"
   ]
  },
  {
   "attachments": {},
   "cell_type": "markdown",
   "metadata": {},
   "source": [
    "#### ROC Curve\n",
    "The Receiver Operating Characteristic (ROC) curve is a plot that displays the true positive rate (TPR) against the false positive rate (FPR) at various threshold settings. The area under the curve (AUC) is also often reported, which can be interpreted as the probability that the classifier will assign a higher score to a randomly chosen positive instance than to a randomly chosen negative instance. A perfect classifier would have a curve that goes straight up the y-axis (TPR) and then along the x-axis (FPR). A classifier with no power has a curve that is a diagonal line (the so-called line of no-discrimination)."
   ]
  },
  {
   "cell_type": "code",
   "execution_count": 39,
   "metadata": {},
   "outputs": [
    {
     "data": {
      "image/png": "[encoded data removed]",
      "text/plain": [
       "<Figure size 640x480 with 1 Axes>"
      ]
     },
     "metadata": {},
     "output_type": "display_data"
    }
   ],
   "source": [
    "from sklearn.metrics import roc_curve, auc\n",
    "\n",
    "# ROC curve\n",
    "fpr, tpr, thresholds = roc_curve(y_test, y_pred)\n",
    "roc_auc = auc(fpr, tpr)\n",
    "\n",
    "plt.figure()\n",
    "plt.plot(fpr, tpr, color='darkorange', label='ROC curve (area = %0.2f)' % roc_auc)\n",
    "plt.plot([0, 1], [0, 1], color='navy', linestyle='--')\n",
    "plt.xlim([0.0, 1.0])\n",
    "plt.ylim([0.0, 1.05])\n",
    "plt.xlabel('False Positive Rate')\n",
    "plt.ylabel('True Positive Rate')\n",
    "plt.title('Receiver Operating Characteristic')\n",
    "plt.legend(loc=\"lower right\")\n",
    "plt.show()"
   ]
  },
  {
   "cell_type": "code",
   "execution_count": null,
   "metadata": {},
   "outputs": [],
   "source": []
  }
 ],
 "metadata": {
  "kernelspec": {
   "display_name": "pypi_base",
   "language": "python",
   "name": "python3"
  },
  "language_info": {
   "codemirror_mode": {
    "name": "ipython",
    "version": 3
   },
   "file_extension": ".py",
   "mimetype": "text/x-python",
   "name": "python",
   "nbconvert_exporter": "python",
   "pygments_lexer": "ipython3",
   "version": "3.11.3"
  },
  "orig_nbformat": 4
 },
 "nbformat": 4,
 "nbformat_minor": 2
}
